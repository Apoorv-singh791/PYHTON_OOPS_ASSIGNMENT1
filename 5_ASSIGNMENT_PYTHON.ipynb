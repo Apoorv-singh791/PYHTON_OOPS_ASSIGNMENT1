{
 "cells": [
  {
   "cell_type": "markdown",
   "id": "bccdc9e1-ea03-407f-baef-81138fbad66d",
   "metadata": {},
   "source": [
    "Q1, Create a vehicle class with an init method having instance variables as name_of_vehicle, max_speed \n",
    "and average_of_vehicle. "
   ]
  },
  {
   "cell_type": "markdown",
   "id": "9ac868fa-87da-4bf0-ae68-5f53e7607168",
   "metadata": {},
   "source": [
    "A1."
   ]
  },
  {
   "cell_type": "code",
   "execution_count": 28,
   "id": "ecb954d9-cfaa-4ce3-a116-08045b539cac",
   "metadata": {},
   "outputs": [],
   "source": [
    "class vehicle:\n",
    "    def __init__(self, name_of_vehicle, max_speed,average_of_vehicle):\n",
    "        self.name_of_vehicle=name_of_vehicle\n",
    "        self.max_speed=max_speed\n",
    "        self.average_of_vehicle=average_of_vehicle"
   ]
  },
  {
   "cell_type": "markdown",
   "id": "1fe21b24-9627-4bff-9cd8-069d89fb9bb1",
   "metadata": {},
   "source": [
    "Q2.  Create a child class car from the vehicle class created in Que 1, which will inherit the vehicle class. \n",
    "Create a method named seating_capacity which takes capacity as an argument and returns the name of \n",
    "the vehicle and its seating capacity."
   ]
  },
  {
   "cell_type": "markdown",
   "id": "af261c87-5f98-4c32-8b33-12a0289a5253",
   "metadata": {},
   "source": [
    "A2."
   ]
  },
  {
   "cell_type": "code",
   "execution_count": 29,
   "id": "feb5062f-9d51-42e9-9190-3c6566738d0b",
   "metadata": {},
   "outputs": [],
   "source": [
    "class car(vechile):\n",
    "    def seating_capacity(self,capacity):\n",
    "        self.capacity=capacity\n",
    "    def details(self):\n",
    "        return f\"VECHILE : {self.name_of_vehicle}\",f\"seating capacity : {self.capacity}\""
   ]
  },
  {
   "cell_type": "code",
   "execution_count": 30,
   "id": "0b4ac83d-a0d4-463a-9595-cf309a16cf3f",
   "metadata": {},
   "outputs": [
    {
     "data": {
      "text/plain": [
       "('VECHILE : CIAZ', 'seating capacity : 5')"
      ]
     },
     "execution_count": 30,
     "metadata": {},
     "output_type": "execute_result"
    }
   ],
   "source": [
    "b=car('CIAZ',200,100)\n",
    "b.seating_capacity(5)\n",
    "b.details()"
   ]
  },
  {
   "cell_type": "markdown",
   "id": "acc8cf92-34da-4cc5-884e-6ea33d6b046b",
   "metadata": {},
   "source": [
    "Q3. What is multiple inheritance? Write a python code to demonstrate multiple inheritance"
   ]
  },
  {
   "cell_type": "markdown",
   "id": "10f45b05-056d-4750-aef3-26e7008a3a6e",
   "metadata": {},
   "source": [
    "A3. Multiple inheritance is a feature of some object-oriented computer programming languages in which an object or class can inherit features from more than one parent object or parent class. a paritcular class can use the every method of the classes which he inherits."
   ]
  },
  {
   "cell_type": "code",
   "execution_count": 32,
   "id": "5bb1777f-68bd-42c1-b5de-ab61925830d9",
   "metadata": {},
   "outputs": [],
   "source": [
    "class class_1:\n",
    "    def class_1(self):\n",
    "        return 'THIS IS FROM CLASS ONE'\n",
    "class class_2:\n",
    "    def class_2(self):\n",
    "        return 'THIS IS FROM CLASS TWO'\n",
    "class class_3(class_1,class_2):\n",
    "    def class_3(self):\n",
    "        pass"
   ]
  },
  {
   "cell_type": "code",
   "execution_count": 33,
   "id": "2908c398-142f-4288-8681-6bac1e524aa0",
   "metadata": {},
   "outputs": [],
   "source": [
    "class3=class_3()"
   ]
  },
  {
   "cell_type": "code",
   "execution_count": 34,
   "id": "c98bbfb9-05f3-47b5-aeae-9a795d7c92e1",
   "metadata": {},
   "outputs": [
    {
     "data": {
      "text/plain": [
       "'THIS IS FROM CLASS TWO'"
      ]
     },
     "execution_count": 34,
     "metadata": {},
     "output_type": "execute_result"
    }
   ],
   "source": [
    "class3.class_2()"
   ]
  },
  {
   "cell_type": "code",
   "execution_count": 35,
   "id": "f6332361-6152-459b-ada0-29385620e2d4",
   "metadata": {},
   "outputs": [
    {
     "data": {
      "text/plain": [
       "'THIS IS FROM CLASS ONE'"
      ]
     },
     "execution_count": 35,
     "metadata": {},
     "output_type": "execute_result"
    }
   ],
   "source": [
    "class3.class_1()"
   ]
  },
  {
   "cell_type": "markdown",
   "id": "df7d157e-92ef-472c-8d6d-b334a37599a5",
   "metadata": {},
   "source": [
    "Q4. What are getter and setter in python? Create a class and create a getter and a setter method in this \n",
    "class."
   ]
  },
  {
   "cell_type": "markdown",
   "id": "a2c45603-4ac1-4c9b-b9f3-8680663e524b",
   "metadata": {},
   "source": [
    "We use getters & setters to add validation logic around getting and setting a value and to avoid direct access of a class field that is private variables cannot be accessed directly or modified by external user."
   ]
  },
  {
   "cell_type": "code",
   "execution_count": 2,
   "id": "d2b54899-37d2-4378-9095-c7c67877670c",
   "metadata": {},
   "outputs": [],
   "source": [
    "class student:\n",
    "    def __init__(self,name,branch):\n",
    "        self.__name=name\n",
    "        self.__branch=branch\n",
    "        \n",
    "    @property\n",
    "    def get_details(self):\n",
    "        return self.__name,self.__branch\n",
    "    \n",
    "    \n",
    "    @get_details.setter\n",
    "    def set_name(self,name):\n",
    "        self.__name=name"
   ]
  },
  {
   "cell_type": "code",
   "execution_count": 4,
   "id": "543818de-6c8c-4119-acb5-9c693959d1b9",
   "metadata": {},
   "outputs": [
    {
     "data": {
      "text/plain": [
       "('apoorv', 'cse')"
      ]
     },
     "execution_count": 4,
     "metadata": {},
     "output_type": "execute_result"
    }
   ],
   "source": [
    "std1=student('apoorv','cse')\n",
    "std1. get_details\n"
   ]
  },
  {
   "cell_type": "code",
   "execution_count": 5,
   "id": "9dde4358-8a7a-442f-9a1e-4817366ec018",
   "metadata": {},
   "outputs": [
    {
     "data": {
      "text/plain": [
       "('akriti', 'cse')"
      ]
     },
     "execution_count": 5,
     "metadata": {},
     "output_type": "execute_result"
    }
   ],
   "source": [
    "std1. set_name = 'akriti'\n",
    "std1. get_details"
   ]
  },
  {
   "cell_type": "markdown",
   "id": "2dfc3580-30d1-4b46-a549-1de9d8d2cec3",
   "metadata": {},
   "source": [
    "Q5.What is method overriding in python? Write a python code to demonstrate method overriding."
   ]
  },
  {
   "cell_type": "markdown",
   "id": "6fefef82-dacd-46a1-a368-7e46c5c664c7",
   "metadata": {},
   "source": [
    "Method overriding is a form of run-time polymorphism in Python. When a child class method overrides the parent class method of the same name, parameters and return type, it is known as method overriding"
   ]
  },
  {
   "cell_type": "code",
   "execution_count": 9,
   "id": "1df4eee8-96aa-4af5-88b1-3395a105f62c",
   "metadata": {},
   "outputs": [],
   "source": [
    "class students:\n",
    "    def __init__(self,name,branch):\n",
    "        self.name=name\n",
    "        self.branch=branch\n",
    "        \n",
    "    @classmethod\n",
    "    def name(cls,name,branch):\n",
    "        return cls(name,branch)\n",
    "    \n",
    "    def details(self):\n",
    "        return self.name,self. branch\n",
    "        "
   ]
  },
  {
   "cell_type": "code",
   "execution_count": 10,
   "id": "de4db8cb-19ea-4636-80e6-fad1fc19d32b",
   "metadata": {},
   "outputs": [],
   "source": [
    "a=students.name('apoorv','cse')"
   ]
  },
  {
   "cell_type": "code",
   "execution_count": 11,
   "id": "4d1a2597-edd6-4d36-9a37-df8193f6355d",
   "metadata": {},
   "outputs": [
    {
     "data": {
      "text/plain": [
       "('apoorv', 'cse')"
      ]
     },
     "execution_count": 11,
     "metadata": {},
     "output_type": "execute_result"
    }
   ],
   "source": [
    "a. details()"
   ]
  },
  {
   "cell_type": "code",
   "execution_count": null,
   "id": "18a750cf-01f0-4cb2-ba71-558cd3a31e20",
   "metadata": {},
   "outputs": [],
   "source": []
  }
 ],
 "metadata": {
  "kernelspec": {
   "display_name": "Python 3 (ipykernel)",
   "language": "python",
   "name": "python3"
  },
  "language_info": {
   "codemirror_mode": {
    "name": "ipython",
    "version": 3
   },
   "file_extension": ".py",
   "mimetype": "text/x-python",
   "name": "python",
   "nbconvert_exporter": "python",
   "pygments_lexer": "ipython3",
   "version": "3.10.8"
  }
 },
 "nbformat": 4,
 "nbformat_minor": 5
}
